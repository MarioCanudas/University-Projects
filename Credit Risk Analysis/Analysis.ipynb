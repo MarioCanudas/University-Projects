{
 "cells": [
  {
   "cell_type": "markdown",
   "metadata": {},
   "source": [
    "# **Análisis de montos de préstamos según historial crediticio**"
   ]
  },
  {
   "cell_type": "markdown",
   "metadata": {},
   "source": [
    "## **1. Introducción**\n",
    "\n",
    "El objetivo principal es analizar si existen diferencias significativas en el monto promedio de los préstamos (`loan_amnt`) otorgados a individuos, según su historial crediticio previo (`cb_person_default_on_file`). Para llevar a cabo este análisis, se utilizará el conjunto de datos `credit_risk_dataset.csv`.\n",
    "\n",
    "El desarrollo de este estudio se estructurará en varias etapas. Primero, se examinará la distribución del monto del préstamo para cada categoría de la variable `cb_person_default_on_file` (incumplimiento histórico 'Y' o 'N'), evaluando la simetría y normalidad de los datos, y presentando sus estadísticas descriptivas fundamentales. Posteriormente, se ofrecerá una perspectiva inicial sobre la igualdad de los montos promedio entre estas categorías, apoyada visualmente por un diagrama de caja y mediante el cálculo de intervalos de confianza del 95%. Finalmente, se realizará una prueba de hipótesis con un nivel de significancia del 5% para verificar formalmente las observaciones previas. Este análisis se ha realizado utilizando el software R en un entorno de Jupyter Notebook."
   ]
  },
  {
   "cell_type": "markdown",
   "metadata": {},
   "source": [
    "### **1.1. Descripción de los datos**\n",
    "\n",
    "El proyecto se enfocará en dos columnas clave del dataset `credit_risk_dataset.csv`: `loan_amnt` y `cb_person_default_on_file`.\n",
    "- `loan_amnt`: Representa el monto del préstamo.\n",
    "- `cb_person_default_on_file`: Indica el historial de incumplimiento de pago de la persona, con valores 'Y' (sí) o 'N' (no)."
   ]
  },
  {
   "cell_type": "markdown",
   "metadata": {},
   "source": [
    "## **2. Análisis de distribución**"
   ]
  },
  {
   "cell_type": "markdown",
   "metadata": {},
   "source": [
    "### **2.1. Monto de prestamos para personas que tienen algún incumplimiento historico**\n",
    "#### **2.1.1. Estadisticas descriptivas que nos ayudan a entender la distribucion de los datos**"
   ]
  },
  {
   "cell_type": "code",
   "execution_count": 29,
   "metadata": {
    "vscode": {
     "languageId": "r"
    }
   },
   "outputs": [
    {
     "name": "stdout",
     "output_type": "stream",
     "text": [
      "Media = $10,123.36 \n",
      "Mediana =  $8,400.00 \n",
      "Desviacion estandar =  $6,853.53 \n",
      "Curtosis =  3.773135 \n",
      "Asimetria muestral =  1.051963"
     ]
    }
   ],
   "source": [
    "library(moments) # Calculo de curtosis y asimetria\n",
    "\n",
    "df <- read.csv(\"credit_risk_dataset.csv\") # Importar dataset\n",
    "\n",
    "df_Y <- subset(df, cb_person_default_on_file == 'Y')\n",
    "\n",
    "media_Y <- mean(df_Y$loan_amnt)\n",
    "mediana_Y <- median(df_Y$loan_amnt)\n",
    "desv_est_Y <- sd(df_Y$loan_amnt)\n",
    "curt_Y <- kurtosis(df_Y$loan_amnt)\n",
    "asimetria_muestral_Y <- skewness(df_Y$loan_amnt)\n",
    "\n",
    "aplicar_formato <- function(valor) {\n",
    "    valor_con_formato <- formatC(valor, format=\"f\", digits=2, big.mark=\",\", decimal.mark=\".\")\n",
    "    return(paste0(\"$\", valor_con_formato))\n",
    "}\n",
    "\n",
    "cat(\"Media =\", aplicar_formato(media_Y), \"\\n\")\n",
    "cat(\"Mediana = \", aplicar_formato(mediana_Y), \"\\n\")\n",
    "cat(\"Desviacion estandar = \", aplicar_formato(desv_est_Y), \"\\n\")\n",
    "cat(\"Curtosis = \", curt_Y, \"\\n\")\n",
    "cat(\"Asimetria muestral = \", asimetria_muestral_Y)\n"
   ]
  },
  {
   "cell_type": "markdown",
   "metadata": {},
   "source": [
    "##### **Conclusiones**\n",
    "\n",
    "- Notemos que la media es de $10,123.36 que es significativamente mayor que la mediana de $8,400.00 , lo que sugiere que la distribución está sesgada a la derecha.\n",
    "- Notemos que la curtosis es de 3.77315, un valor positivo como este indica una distribución leptocúrtica, lo que significa que tiene colas más pesadas y un pico más pronunciado que una distribución normal\n",
    "- La asimetría muestral es de 1.051963. Dado que este valor es positivo y considerablemente diferente de cero, la distribución está sesgada a la derecha (asimetría positiva). Esto significa que la cola de la distribución es más larga hacia los valores más altos, y la mayoría de los datos se agrupan en el lado izquierdo, lo que refuerza lo propuesto al analizar la media y la mediana."
   ]
  },
  {
   "cell_type": "markdown",
   "metadata": {},
   "source": [
    "### **2.1.2. Graficos para entender la distribucion de los datos**"
   ]
  },
  {
   "cell_type": "markdown",
   "metadata": {},
   "source": [
    "##### **Gráfico de barras**"
   ]
  },
  {
   "cell_type": "code",
   "execution_count": 14,
   "metadata": {
    "vscode": {
     "languageId": "r"
    }
   },
   "outputs": [
    {
     "data": {
      "image/png": "[encoded data removed]",
      "text/plain": [
       "plot without title"
      ]
     },
     "metadata": {
      "image/png": {
       "height": 420,
       "width": 420
      }
     },
     "output_type": "display_data"
    }
   ],
   "source": [
    "library(ggplot2)\n",
    "\n",
    "hist_Y <- ggplot(df_Y, aes(x = loan_amnt)) +\n",
    "  geom_histogram(bins = 40, fill = \"lightblue\", color = \"black\") +  # Color de barras y borde\n",
    "  theme_classic() +  # Aplicar un tema clasico (con fondo blanco)\n",
    "  theme(panel.grid.major = element_line(color = \"gray80\", size = 0.5)) + # Agregar cuadricula\n",
    "  labs(\n",
    "    title = '(Y.1) Grafico de barras del monto de personas que si han incumplido',\n",
    "    x = 'Monto del prestamo',\n",
    "    y = 'Cantidad de personas'\n",
    "  )\n",
    "\n",
    "hist_Y\n"
   ]
  },
  {
   "cell_type": "markdown",
   "metadata": {},
   "source": [
    "Se observa una clara asimetría positiva o sesgo a la derecha. La mayoría de las personas con historial de incumplimiento tienen montos de préstamo en los rangos más bajos (entre 0 y aproximadamente 10,000), con un pico significativo alrededor de los $10,000. A medida que el monto del préstamo aumenta, la frecuencia disminuye drásticamente, aunque hay algunas concentraciones menores en rangos más altos (como alrededor de $15,000 y $20,000)."
   ]
  },
  {
   "cell_type": "markdown",
   "metadata": {},
   "source": [
    "##### **Gráfico de caja**"
   ]
  },
  {
   "cell_type": "code",
   "execution_count": 15,
   "metadata": {
    "vscode": {
     "languageId": "r"
    }
   },
   "outputs": [
    {
     "data": {
      "image/png": "[encoded data removed]",
      "text/plain": [
       "plot without title"
      ]
     },
     "metadata": {
      "image/png": {
       "height": 420,
       "width": 420
      }
     },
     "output_type": "display_data"
    }
   ],
   "source": [
    "boxp_Y <- ggplot(df_Y, aes(x = loan_amnt)) +\n",
    "  geom_boxplot(fill = \"lightblue\", color= \"black\") +\n",
    "  theme_classic() + \n",
    "  labs(\n",
    "    title = '(Y.2) Gráfico de caja del monto de personas que si han incumplido',\n",
    "    x = 'Monto del prestamo'\n",
    "  )\n",
    "\n",
    "boxp_Y"
   ]
  },
  {
   "cell_type": "markdown",
   "metadata": {},
   "source": [
    "El boxplot refuerza la conclusión de la asimetría positiva. La caja (que representa el rango intercuartílico, donde se encuentra el 50% central de los datos) está sesgada hacia los valores más bajos. La línea negra dentro de la caja, que representa la mediana, está notablemente más cerca del cuartil inferior, lo que confirma la asimetría a la derecha. Además, se aprecian numerosos puntos individuales en el lado derecho de la gráfica, más allá del \"bigote\" superior. Estos puntos representan valores atípicos (outliers), es decir, montos de préstamo inusualmente altos para este grupo. La presencia de estos valores atípicos es consistente con una distribución con una cola derecha larga y contribuye a la asimetría observada en el histograma."
   ]
  },
  {
   "cell_type": "markdown",
   "metadata": {},
   "source": [
    "##### **Q-Q plot (papel de probabilidad)**"
   ]
  },
  {
   "cell_type": "code",
   "execution_count": 16,
   "metadata": {
    "vscode": {
     "languageId": "r"
    }
   },
   "outputs": [
    {
     "data": {
      "image/png": "[encoded data removed]",
      "text/plain": [
       "plot without title"
      ]
     },
     "metadata": {
      "image/png": {
       "height": 420,
       "width": 420
      }
     },
     "output_type": "display_data"
    }
   ],
   "source": [
    "qqnormal_Y <- ggplot(df_Y, aes(sample = loan_amnt)) +\n",
    "  stat_qq() +\n",
    "  stat_qq_line(color = \"red\") +\n",
    "  labs(\n",
    "    title = '(Y.3) QQ Plot - Distribución Normal',\n",
    "    x = 'Cuantiles teóricos',\n",
    "    y = 'Cuantiles muestrales'\n",
    "  )\n",
    "\n",
    "qqnormal_Y"
   ]
  },
  {
   "cell_type": "markdown",
   "metadata": {},
   "source": [
    "Si los datos se distribuyeran normalmente, los puntos en el gráfico se alinearían aproximadamente a lo largo de la línea roja de 45 grados. En este QQ plot, se observa una desviación significativa de la línea recta, especialmente en los extremos, lo que sugiere que la distribución de los montos de préstamo para personas con historial de incumplimiento no es normal."
   ]
  },
  {
   "cell_type": "markdown",
   "metadata": {},
   "source": [
    "### **2.2. Monto de prestamos para personas que NO tienen algún incumplimiento historico**\n",
    "#### **2.2.1. Estadisticas descriptivas que nos ayudan a entender la distribucion de los datos**"
   ]
  },
  {
   "cell_type": "code",
   "execution_count": 30,
   "metadata": {
    "vscode": {
     "languageId": "r"
    }
   },
   "outputs": [
    {
     "name": "stdout",
     "output_type": "stream",
     "text": [
      "Media = $9,475.06 \n",
      "Mediana =  $8,000.00 \n",
      "Desviacion estandar =  $6,196.56 \n",
      "Curtosis =  4.581604 \n",
      "Asimetria muestral =  1.220372"
     ]
    }
   ],
   "source": [
    "library(moments) # Calculo de curtosis y asimetria\n",
    "\n",
    "df_N <- subset(df, cb_person_default_on_file == 'N')\n",
    "\n",
    "media_N <- mean(df_N$loan_amnt)\n",
    "mediana_N <- median(df_N$loan_amnt)\n",
    "desv_est_N <- sd(df_N$loan_amnt)\n",
    "curt_N <- kurtosis(df_N$loan_amnt)\n",
    "asimetria_muestral_N <- skewness(df_N$loan_amnt)\n",
    "\n",
    "cat(\"Media =\", aplicar_formato(media_N), \"\\n\")\n",
    "cat(\"Mediana = \", aplicar_formato(mediana_N), \"\\n\")\n",
    "cat(\"Desviacion estandar = \", aplicar_formato(desv_est_N), \"\\n\")\n",
    "cat(\"Curtosis = \", curt_N, \"\\n\")\n",
    "cat(\"Asimetria muestral = \", asimetria_muestral_N)"
   ]
  },
  {
   "cell_type": "markdown",
   "metadata": {},
   "source": [
    "##### **Conclusiones**\n",
    "\n",
    "- El valor de la asimetría muestral es 1.220372. Dado que es un valor positivo y notablemente distinto de cero, indica que la distribución está sesgada a la derecha (asimetría positiva). Esto significa que la cola de la distribución se extiende más hacia los valores de montos de préstamo más altos, mientras que la mayoría de los préstamos se concentran en valores más bajos. El hecho de que la Media (9475.056) sea mayor que la Mediana (8000) refuerza esta observación.\n",
    "- El valor de la curtosis es 4.581604. Este valor positivo y relativamente alto (considerando que el exceso de curtosis para una distribución normal es 0) sugiere una distribución leptocúrtica. Esto implica que la distribución tiene picos más agudos y colas más pesadas (es decir, más valores extremos) en comparación con una distribución normal."
   ]
  },
  {
   "cell_type": "markdown",
   "metadata": {},
   "source": [
    "#### **2.2.2. Graficos para entender la distribucion de los datos**"
   ]
  },
  {
   "cell_type": "markdown",
   "metadata": {},
   "source": [
    "##### **Gráfico de barras**"
   ]
  },
  {
   "cell_type": "code",
   "execution_count": 18,
   "metadata": {
    "vscode": {
     "languageId": "r"
    }
   },
   "outputs": [
    {
     "data": {
      "image/png": "[encoded data removed]",
      "text/plain": [
       "plot without title"
      ]
     },
     "metadata": {
      "image/png": {
       "height": 420,
       "width": 420
      }
     },
     "output_type": "display_data"
    }
   ],
   "source": [
    "hist_N <- ggplot(df_N, aes(x = loan_amnt)) +\n",
    "  geom_histogram(bins = 40, fill = \"red\", color = \"black\") +  # Color de barras y borde\n",
    "  theme_classic() +  # Aplicar un tema clasico (con fondo blanco)\n",
    "  theme(panel.grid.major = element_line(color = \"gray80\", size = 0.5)) + # Agregar cuadricula\n",
    "  labs(\n",
    "    title = '(N.1) Grafico de barras del monto de personas que NO han incumplido',\n",
    "    x = 'Monto del prestamo',\n",
    "    y = 'Cantidad de personas'\n",
    "  )\n",
    "\n",
    "hist_N"
   ]
  },
  {
   "cell_type": "markdown",
   "metadata": {},
   "source": [
    "Se observa una clara asimetría positiva o sesgo a la derecha. La mayor concentración de personas se encuentra en los rangos de montos de préstamo más bajos (principalmente entre 0 y aproximadamente 10,000-12,000), con un pico notable alrededor de los 10,000. La frecuencia disminuye a medida que el monto del préstamo aumenta, aunque se perciben algunas aglomeraciones menores en montos más elevados (por ejemplo, cerca de 15,000 y 20,000). Esto sugiere que la mayoría de los préstamos sin incumplimiento son de montos menores, y los montos más grandes son menos comunes."
   ]
  },
  {
   "cell_type": "markdown",
   "metadata": {},
   "source": [
    "##### **Gráfico de caja**"
   ]
  },
  {
   "cell_type": "code",
   "execution_count": 19,
   "metadata": {
    "vscode": {
     "languageId": "r"
    }
   },
   "outputs": [
    {
     "data": {
      "image/png": "[encoded data removed]",
      "text/plain": [
       "plot without title"
      ]
     },
     "metadata": {
      "image/png": {
       "height": 420,
       "width": 420
      }
     },
     "output_type": "display_data"
    }
   ],
   "source": [
    "boxp_N <- ggplot(df_N, aes(x = loan_amnt)) +\n",
    "  geom_boxplot(fill = \"red\", color= \"black\") +\n",
    "  theme_classic() +\n",
    "  labs(\n",
    "    title = '(N.2) Gráfico de caja del monto de personas que NO han incumplido',\n",
    "    x = 'Monto del prestamo'\n",
    "  )\n",
    "\n",
    "boxp_N"
   ]
  },
  {
   "cell_type": "markdown",
   "metadata": {},
   "source": [
    "El boxplot corrobora la asimetría positiva. La caja (que engloba el 50% central de los datos) se encuentra sesgada hacia los valores inferiores. La línea negra que indica la mediana está más cercana al cuartil inferior, lo que confirma la asimetría a la derecha. Además, se aprecian numerosos puntos individuales al lado derecho de la gráfica, más allá del \"bigote\" superior. Estos puntos son valores atípicos (outliers), representando montos de préstamo inusualmente altos para este grupo. La presencia de estos valores atípicos es coherente con una distribución que posee una cola derecha larga y contribuye a la asimetría observada en el histograma."
   ]
  },
  {
   "cell_type": "markdown",
   "metadata": {},
   "source": [
    "##### **Q-Q plot (papel de probabilidad)**"
   ]
  },
  {
   "cell_type": "code",
   "execution_count": 20,
   "metadata": {
    "vscode": {
     "languageId": "r"
    }
   },
   "outputs": [
    {
     "data": {
      "image/png": "[encoded data removed]",
      "text/plain": [
       "plot without title"
      ]
     },
     "metadata": {
      "image/png": {
       "height": 420,
       "width": 420
      }
     },
     "output_type": "display_data"
    }
   ],
   "source": [
    "qqnormal_N <- ggplot(df_N, aes(sample = loan_amnt)) +\n",
    "  stat_qq() +\n",
    "  stat_qq_line(color = \"red\") +\n",
    "  labs(\n",
    "    title = '(N.3) QQ Plot - Distribución Normal',\n",
    "    x = 'Cuantiles teóricos',\n",
    "    y = 'Cuantiles muestrales'\n",
    "  )\n",
    "  \n",
    "qqnormal_N"
   ]
  },
  {
   "cell_type": "markdown",
   "metadata": {},
   "source": [
    "En este QQ plot, se observa una desviación significativa de la línea recta, particularmente en los extremos. Los puntos en la parte inferior y superior del gráfico se curvan y se alejan de la línea. Esta curvatura y la clara separación de la línea de 45 grados indican que la distribución del monto del préstamo para este grupo no sigue una distribución normal."
   ]
  },
  {
   "cell_type": "markdown",
   "metadata": {},
   "source": [
    "## **3. Comparación de los montos promedio de los préstamos**"
   ]
  },
  {
   "cell_type": "markdown",
   "metadata": {},
   "source": [
    "### **3.1. Opinión inicial (basada en la información anterior)**\n",
    "\n"
   ]
  },
  {
   "cell_type": "markdown",
   "metadata": {},
   "source": [
    "Al calcular las medias muestrales, observamos una diferencia entre ambos grupos: la media del monto del préstamo para quienes sí han incumplido es de $10,123.36, mientras que para quienes no han incumplido es de $9,475.06. Esta diferencia de $648.30 entre las medias muestrales ya sugiere una posible distinción en los montos promedio.\n",
    "\n",
    "Adicionalmente, notamos que la desviación estándar del grupo de personas que sí han incumplido ($6,853.53) es mayor que la de las que no han incumplido ($6,196.56). Esta mayor dispersión en los datos del grupo con historial de incumplimiento es un indicio importante, ya que a pesar de que la diferencia entre las medias muestrales puede parecer modesta en comparación con los valores de los préstamos, la mayor variabilidad en uno de los grupos podría influir en la significancia estadística de esa diferencia.\n",
    "\n",
    "Por lo tanto, en mi opinión, no podemos afirmar con certeza que las medias poblacionales sean iguales basándonos únicamente en estas estadísticas descriptivas. La diferencia observada en las medias muestrales, sumada a las distintas dispersiones, nos lleva a considerar que las medias poblacionales podrían ser diferentes, aunque la magnitud de esa diferencia podría ser relativamente pequeña en proporción a los montos de préstamo involucrados."
   ]
  },
  {
   "cell_type": "markdown",
   "metadata": {},
   "source": [
    "### **3.2. Analisis con boxplots**"
   ]
  },
  {
   "cell_type": "code",
   "execution_count": 21,
   "metadata": {
    "vscode": {
     "languageId": "r"
    }
   },
   "outputs": [
    {
     "data": {
      "image/png": "[encoded data removed]",
      "text/plain": [
       "plot without title"
      ]
     },
     "metadata": {
      "image/png": {
       "height": 420,
       "width": 420
      }
     },
     "output_type": "display_data"
    }
   ],
   "source": [
    "df_Y$grupo <- \"SI incumplió\"\n",
    "df_N$grupo <- \"NO incumplió\"\n",
    "\n",
    "# Combinar los dataframes\n",
    "df_combinado <- rbind(df_Y, df_N)\n",
    "\n",
    "# Crear el boxplot combinado\n",
    "boxplot_combinado <- ggplot(df_combinado, aes(x = grupo, y = loan_amnt, fill = grupo)) +\n",
    "  geom_boxplot() +\n",
    "  coord_flip() +\n",
    "  theme_classic() +\n",
    "  labs(\n",
    "    title = \"Comparación de montos de préstamos por estado de incumplimiento\",\n",
    "    x = \"Estado de incumplimiento\",\n",
    "    y = \"Monto del préstamo\"\n",
    "  ) +\n",
    "  scale_fill_manual(values = c(\"SI incumplió\" = \"lightblue\", \"NO incumplió\" = \"red\")) +\n",
    "  theme(\n",
    "    plot.title = element_text(size = 14, face = \"bold\", hjust = 0.5),\n",
    "    axis.title = element_text(size = 12),\n",
    "    legend.position = \"none\"\n",
    "  )\n",
    "\n",
    "boxplot_combinado"
   ]
  },
  {
   "cell_type": "markdown",
   "metadata": {},
   "source": [
    "Visualmente, la mediana del grupo \"SI incumplió\" parece ser un poco más alta que la del grupo \"NO incumplió\". Sin embargo, el considerable solapamiento de las cajas y de los bigotes hace difícil determinar a simple vista si esta diferencia en las medianas es lo suficientemente grande como para inferir que las medias poblacionales son estadísticamente diferentes, por lo que si una es mayor que la otra, será por una diferencia pequeña que no es fácil de determinar a simple vista."
   ]
  },
  {
   "cell_type": "markdown",
   "metadata": {},
   "source": [
    "### **3.3. Analisis con intervalo de confianza**\n",
    "\n",
    "Se hará un intervalo de confianza para la diferencia de las medias, en donde se usará el siguiente intervalo dado que el tamaño de la muestra es lo suficientemente grande para poder usar el teorema del límite central:\n",
    "$$\\left( (\\bar{X} - \\bar{Y}) - Z_{\\frac{\\alpha}{2}} \\sqrt{\\frac{S_x^2}{n_x} + \\frac{S_y^2}{n_y}}, (\\bar{X} - \\bar{Y}) + Z_{\\frac{\\alpha}{2}} \\sqrt{\\frac{S_x^2}{n_x} + \\frac{S_y^2}{n_y}} \\right)$$\n",
    "\n",
    "Para esta fórmula, consideremos dos grupos muestrales: el primero (**subíndice x**) corresponde a personas con historial de incumplimiento de pago, y el segundo (**subíndice y**) a aquellas sin dicho historial. De este modo:\n",
    "\n",
    "* $\\bar{X}$ y $\\bar{Y}$ son las **medias muestrales** respectivas.\n",
    "* $S_x$ y $S_y$ son las **desviaciones estándar muestrales** respectivas.\n",
    "* $n_x$ y $n_y$ son los **tamaños de muestra** respectivos.\n",
    "* $Z_{\\alpha/2}$ es el **valor crítico** de la distribución normal estándar, correspondiente a un nivel de confianza del 95%."
   ]
  },
  {
   "cell_type": "code",
   "execution_count": 22,
   "metadata": {
    "vscode": {
     "languageId": "r"
    }
   },
   "outputs": [
    {
     "name": "stdout",
     "output_type": "stream",
     "text": [
      "Intervalo de confianza para la diferencia de las medias: ( 456.1993 ,  840.4078 )"
     ]
    }
   ],
   "source": [
    "dif_medias <- media_Y - media_N\n",
    "\n",
    "nY <- length(df_Y$loan_amnt)\n",
    "varianza_Y <- var(df_Y$loan_amnt)\n",
    "\n",
    "nN <- length(df_N$loan_amnt)\n",
    "varianza_N <- var(df_N$loan_amnt)\n",
    "\n",
    "Z <- qnorm(0.975)\n",
    "\n",
    "error <- Z * sqrt(varianza_Y/nY + varianza_N/nN)\n",
    "\n",
    "intervalo <- c(dif_medias - error, dif_medias + error)\n",
    "\n",
    "cat(\"Intervalo de confianza para la diferencia de las medias: (\", intervalo[1], \", \", intervalo[2], \")\")"
   ]
  },
  {
   "cell_type": "markdown",
   "metadata": {},
   "source": [
    "Dado que el intervalo de confianza no contiene el cero, se concluye que existe una diferencia estadísticamente significativa entre las medias poblacionales de los montos de préstamo de ambos grupos (aquellos con y sin historial de incumplimiento). Ambos límites del intervalo son positivos, esto significa que la media de las personas con incumplimiento de pago es consistentemente mayor que la media de las personas que no tienen historial de incumplimiento."
   ]
  },
  {
   "cell_type": "markdown",
   "metadata": {},
   "source": [
    "# **4. Pruebas de hipótesis con un nivel de significancia del 5%**"
   ]
  },
  {
   "cell_type": "markdown",
   "metadata": {},
   "source": [
    "### **4.1. Hipótesis**"
   ]
  },
  {
   "cell_type": "markdown",
   "metadata": {},
   "source": [
    "Para esta prueba de hipótesis, se usarán las siguientes hipótesis:\n",
    "- Hipótesis nula: **Ambas medias son iguales**\n",
    "- Hipótesis alternativa: **Las medias son diferentes**"
   ]
  },
  {
   "cell_type": "markdown",
   "metadata": {},
   "source": [
    "### **4.2. Tipo de prueba**"
   ]
  },
  {
   "cell_type": "markdown",
   "metadata": {},
   "source": [
    "Se hará una prueba de hipótesis para poder comprobar los resultados anteriores, la cual se hará con un nivel de significancia del 5% y tiene la siguiente estructura:\n",
    "\n",
    "$H_0: \\mu_Y - \\mu_N = 0$\n",
    "\n",
    "$H_1: \\mu_Y - \\mu_N \\neq 0$\n",
    "\n",
    "Calculamos el estadístico de prueba:\n",
    "$$t = \\frac{\\bar{X} - \\bar{Y}}{\\sqrt{\\frac{S_x^2}{n_x} + \\frac{S_y^2}{n_y}}} \\; \\sim \\; t_{\\nu}$$\n",
    "\n",
    "donde $\\nu$ es el número de grados de libertad, que se calcula como:\n",
    "\n",
    "$$\\nu \\approx \\frac{\\left(\\frac{S_x^2}{n_x} + \\frac{S_y^2}{n_y}\\right)^2}{\\frac{(S_x^2/n_x)^2}{n_x-1} + \\frac{(S_y^2/n_y)^2}{n_y-1}}$$\n",
    "\n",
    "y con una region de rechazo de la forma:\n",
    "\n",
    "$$R = \\{t: |t| > t_{\\frac{\\alpha}{2}, \\nu}\\}$$\n"
   ]
  },
  {
   "cell_type": "markdown",
   "metadata": {},
   "source": [
    "### **4.3. Realización de la prueba**"
   ]
  },
  {
   "cell_type": "code",
   "execution_count": 23,
   "metadata": {
    "vscode": {
     "languageId": "r"
    }
   },
   "outputs": [
    {
     "name": "stdout",
     "output_type": "stream",
     "text": [
      "P-valor =  0.00000000003974554 \n",
      "T-estadistico =  6.614387 \n",
      "T-critico =  1.960265 \n",
      "Rechazamos la hipótesis nula. La diferencia entre las medias es significativa."
     ]
    }
   ],
   "source": [
    "nY <- length(df_Y$loan_amnt)\n",
    "nN <- length(df_N$loan_amnt)\n",
    "\n",
    "t_estadistico <- (media_Y - media_N) / sqrt(varianza_Y/nY + varianza_N/nN)\n",
    "\n",
    "grados_libertad <- round(((varianza_Y/nY + varianza_N/nN)^2) / ((varianza_Y/nY)^2/(nY-1) + (varianza_N/nN)^2/(nN-1)))\n",
    "\n",
    "t_critico <- qt(0.975, grados_libertad)\n",
    "\n",
    "p_valor <- 2 * (1 - pt(abs(t_estadistico), grados_libertad))\n",
    "\n",
    "cat(\"P-valor = \", format(p_valor, scientific = F), \"\\n\")\n",
    "cat(\"T-estadistico = \", t_estadistico, \"\\n\")\n",
    "cat(\"T-critico = \", t_critico, \"\\n\")\n",
    "\n",
    "if (abs(t_estadistico) > t_critico) {\n",
    "  cat(\"Rechazamos la hipótesis nula. La diferencia entre las medias es significativa.\")\n",
    "} else {\n",
    "  cat(\"No rechazamos la hipótesis nula. La diferencia entre las medias no es significativa.\")\n",
    "}"
   ]
  },
  {
   "cell_type": "markdown",
   "metadata": {},
   "source": [
    "Este resultado es totalmente consistente con la conclusión que obtuvimos del intervalo de confianza del 95% (456.1993, 840.4078). Ambos métodos nos llevan a la misma conclusión: las medias poblacionales de los montos de préstamo de ambos grupos no son iguales. La prueba de hipótesis formaliza esta conclusión con un nivel de significancia específico."
   ]
  }
 ],
 "metadata": {
  "kernelspec": {
   "display_name": "R",
   "language": "R",
   "name": "ir"
  },
  "language_info": {
   "codemirror_mode": "r",
   "file_extension": ".r",
   "mimetype": "text/x-r-source",
   "name": "R",
   "pygments_lexer": "r",
   "version": "4.4.2"
  }
 },
 "nbformat": 4,
 "nbformat_minor": 2
}
