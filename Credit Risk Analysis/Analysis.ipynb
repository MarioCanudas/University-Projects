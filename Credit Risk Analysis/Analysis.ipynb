{
 "cells": [
  {
   "cell_type": "code",
   "execution_count": 13,
   "metadata": {
    "vscode": {
     "languageId": "r"
    }
   },
   "outputs": [
    {
     "data": {
      "text/html": [
       "<style>\n",
       ".list-inline {list-style: none; margin:0; padding: 0}\n",
       ".list-inline>li {display: inline-block}\n",
       ".list-inline>li:not(:last-child)::after {content: \"\\00b7\"; padding: 0 .5ex}\n",
       "</style>\n",
       "<ol class=list-inline><li>'person_age'</li><li>'person_income'</li><li>'person_home_ownership'</li><li>'person_emp_length'</li><li>'loan_intent'</li><li>'loan_grade'</li><li>'loan_amnt'</li><li>'loan_int_rate'</li><li>'loan_status'</li><li>'loan_percent_income'</li><li>'cb_person_default_on_file'</li><li>'cb_person_cred_hist_length'</li></ol>\n"
      ],
      "text/latex": [
       "\\begin{enumerate*}\n",
       "\\item 'person\\_age'\n",
       "\\item 'person\\_income'\n",
       "\\item 'person\\_home\\_ownership'\n",
       "\\item 'person\\_emp\\_length'\n",
       "\\item 'loan\\_intent'\n",
       "\\item 'loan\\_grade'\n",
       "\\item 'loan\\_amnt'\n",
       "\\item 'loan\\_int\\_rate'\n",
       "\\item 'loan\\_status'\n",
       "\\item 'loan\\_percent\\_income'\n",
       "\\item 'cb\\_person\\_default\\_on\\_file'\n",
       "\\item 'cb\\_person\\_cred\\_hist\\_length'\n",
       "\\end{enumerate*}\n"
      ],
      "text/markdown": [
       "1. 'person_age'\n",
       "2. 'person_income'\n",
       "3. 'person_home_ownership'\n",
       "4. 'person_emp_length'\n",
       "5. 'loan_intent'\n",
       "6. 'loan_grade'\n",
       "7. 'loan_amnt'\n",
       "8. 'loan_int_rate'\n",
       "9. 'loan_status'\n",
       "10. 'loan_percent_income'\n",
       "11. 'cb_person_default_on_file'\n",
       "12. 'cb_person_cred_hist_length'\n",
       "\n",
       "\n"
      ],
      "text/plain": [
       " [1] \"person_age\"                 \"person_income\"             \n",
       " [3] \"person_home_ownership\"      \"person_emp_length\"         \n",
       " [5] \"loan_intent\"                \"loan_grade\"                \n",
       " [7] \"loan_amnt\"                  \"loan_int_rate\"             \n",
       " [9] \"loan_status\"                \"loan_percent_income\"       \n",
       "[11] \"cb_person_default_on_file\"  \"cb_person_cred_hist_length\""
      ]
     },
     "metadata": {},
     "output_type": "display_data"
    }
   ],
   "source": [
    "df <- read.csv(\"credit_risk_dataset.csv\")\n",
    "\n",
    "colnames(df)\n"
   ]
  },
  {
   "cell_type": "markdown",
   "metadata": {},
   "source": [
    "## Monto de prestamos para personas que han pagado"
   ]
  },
  {
   "cell_type": "markdown",
   "metadata": {},
   "source": [
    "# 1. Veamos si el monto de prestamos se distribuye normalmente"
   ]
  },
  {
   "cell_type": "markdown",
   "metadata": {},
   "source": [
    "### Estadisticas descriptivas que nos ayudan a entender la distribucion de los datos"
   ]
  },
  {
   "cell_type": "code",
   "execution_count": 28,
   "metadata": {
    "vscode": {
     "languageId": "r"
    }
   },
   "outputs": [
    {
     "name": "stdout",
     "output_type": "stream",
     "text": [
      "Media = 10123.36 \n",
      "Mediana =  8400 \n",
      "Varianza =  46970887 \n",
      "Desviacion estandar =  6853.531 \n",
      "Rango intercuantílico =  9400"
     ]
    }
   ],
   "source": [
    "df_Y <- subset(df, cb_person_default_on_file == 'Y')\n",
    "\n",
    "media_Y <- mean(df_Y$loan_amnt)\n",
    "mediana_Y <- median(df_Y$loan_amnt)\n",
    "varianza_Y <- var(df_Y$loan_amnt)\n",
    "desv_est_Y <- sd(df_Y$loan_amnt)\n",
    "iqr_Y <- IQR(df_Y$loan_amnt)\n",
    "\n",
    "cat(\"Media =\", media_Y, \"\\n\")\n",
    "cat(\"Mediana = \", mediana_Y, \"\\n\")\n",
    "cat(\"Varianza = \", varianza_Y, \"\\n\")\n",
    "cat(\"Desviacion estandar = \", desv_est_Y, \"\\n\")\n",
    "cat(\"Rango intercuantílico = \", iqr_Y)\n"
   ]
  },
  {
   "cell_type": "markdown",
   "metadata": {},
   "source": []
  },
  {
   "cell_type": "code",
   "execution_count": 15,
   "metadata": {
    "vscode": {
     "languageId": "r"
    }
   },
   "outputs": [
    {
     "name": "stdout",
     "output_type": "stream",
     "text": [
      "Curtosis =  3.773135 \n",
      "Asimetria muestral =  1.051963"
     ]
    }
   ],
   "source": [
    "library(moments) # Calculo de curtosis y asimetria\n",
    "\n",
    "curt_Y <- kurtosis(df_Y$loan_amnt)\n",
    "asimetria_muestral_Y <- skewness(df_Y$loan_amnt)\n",
    "\n",
    "cat(\"Curtosis = \", curt_Y, \"\\n\")\n",
    "cat(\"Asimetria muestral = \", asimetria_muestral_Y)"
   ]
  },
  {
   "cell_type": "markdown",
   "metadata": {},
   "source": []
  },
  {
   "cell_type": "markdown",
   "metadata": {},
   "source": [
    "### Graficos para entender la distribucion de los datos"
   ]
  },
  {
   "cell_type": "code",
   "execution_count": 16,
   "metadata": {
    "vscode": {
     "languageId": "r"
    }
   },
   "outputs": [
    {
     "data": {
      "image/png": "[encoded data removed]",
      "text/plain": [
       "plot without title"
      ]
     },
     "metadata": {
      "image/png": {
       "height": 420,
       "width": 420
      }
     },
     "output_type": "display_data"
    }
   ],
   "source": [
    "library(ggplot2)\n",
    "\n",
    "hist_Y <- ggplot(df_Y, aes(x = loan_amnt)) +\n",
    "  geom_histogram(bins = 13, fill = \"lightblue\", color = \"black\") +  # Color de barras y borde\n",
    "  theme_classic() +  # Aplicar un tema clasico (con fondo blanco)\n",
    "  theme(panel.grid.major = element_line(color = \"gray80\", size = 0.5)) # Agregar cuadricula\n",
    "\n",
    "hist_Y\n"
   ]
  },
  {
   "cell_type": "markdown",
   "metadata": {},
   "source": []
  },
  {
   "cell_type": "code",
   "execution_count": 17,
   "metadata": {
    "vscode": {
     "languageId": "r"
    }
   },
   "outputs": [
    {
     "data": {
      "image/png": "[encoded data removed]",
      "text/plain": [
       "plot without title"
      ]
     },
     "metadata": {
      "image/png": {
       "height": 420,
       "width": 420
      }
     },
     "output_type": "display_data"
    }
   ],
   "source": [
    "boxp_Y <- ggplot(df_Y, aes(x = loan_amnt)) +\n",
    "  geom_boxplot(fill = \"lightblue\", color= \"black\") +\n",
    "  theme_classic()\n",
    "\n",
    "boxp_Y"
   ]
  },
  {
   "cell_type": "markdown",
   "metadata": {},
   "source": []
  },
  {
   "cell_type": "code",
   "execution_count": 18,
   "metadata": {
    "vscode": {
     "languageId": "r"
    }
   },
   "outputs": [
    {
     "data": {
      "image/png": "[encoded data removed]",
      "text/plain": [
       "plot without title"
      ]
     },
     "metadata": {
      "image/png": {
       "height": 420,
       "width": 420
      }
     },
     "output_type": "display_data"
    }
   ],
   "source": [
    "qqnormal_Y <- ggplot(df_Y, aes(sample = loan_amnt)) +\n",
    "  stat_qq() +\n",
    "  stat_qq_line(color = \"red\") +\n",
    "  ggtitle(\"QQ Plot - Distribución Normal\") +\n",
    "  xlab(\"Cuantiles teóricos\") +\n",
    "  ylab(\"Cuantiles muestrales\")\n",
    "\n",
    "qqnormal_Y"
   ]
  },
  {
   "cell_type": "markdown",
   "metadata": {},
   "source": []
  },
  {
   "cell_type": "markdown",
   "metadata": {},
   "source": [
    "## Monto de prestamos para personas que no han pagado"
   ]
  },
  {
   "cell_type": "markdown",
   "metadata": {},
   "source": [
    "### Estadisticas descriptivas que nos ayudan a entender la distribucion de los datos"
   ]
  },
  {
   "cell_type": "code",
   "execution_count": 27,
   "metadata": {
    "vscode": {
     "languageId": "r"
    }
   },
   "outputs": [
    {
     "name": "stdout",
     "output_type": "stream",
     "text": [
      "Media = 10123.36 \n",
      "Mediana =  8400 \n",
      "Varianza =  46970887 \n",
      "Desviacion estandar =  6196.561 \n",
      "Rango intercuantílico =  9400"
     ]
    }
   ],
   "source": [
    "df_N <- subset(df, cb_person_default_on_file == 'N')\n",
    "\n",
    "media_N <- mean(df_N$loan_amnt)\n",
    "mediana_N <- median(df_N$loan_amnt)\n",
    "varianza_N <- var(df_N$loan_amnt)\n",
    "desv_est_N <- sd(df_N$loan_amnt)\n",
    "iqr_N <- IQR(df_N$loan_amnt)\n",
    "\n",
    "cat(\"Media =\", media_Y, \"\\n\")\n",
    "cat(\"Mediana = \", mediana_Y, \"\\n\")\n",
    "cat(\"Varianza = \", varianza_Y, \"\\n\")\n",
    "cat(\"Desviacion estandar = \", desv_est_N, \"\\n\")\n",
    "cat(\"Rango intercuantílico = \", iqr_Y)"
   ]
  },
  {
   "cell_type": "markdown",
   "metadata": {},
   "source": []
  },
  {
   "cell_type": "code",
   "execution_count": 20,
   "metadata": {
    "vscode": {
     "languageId": "r"
    }
   },
   "outputs": [
    {
     "name": "stdout",
     "output_type": "stream",
     "text": [
      "Curtosis =  4.581604 \n",
      "Asimetria muestral =  1.220372"
     ]
    }
   ],
   "source": [
    "library(moments) # Calculo de curtosis y asimetria\n",
    "\n",
    "curt_N <- kurtosis(df_N$loan_amnt)\n",
    "asimetria_muestral_N <- skewness(df_N$loan_amnt)\n",
    "\n",
    "cat(\"Curtosis = \", curt_N, \"\\n\")\n",
    "cat(\"Asimetria muestral = \", asimetria_muestral_N)"
   ]
  },
  {
   "cell_type": "markdown",
   "metadata": {},
   "source": []
  },
  {
   "cell_type": "markdown",
   "metadata": {},
   "source": [
    "### Graficos para entender la distribucion de los datos\n"
   ]
  },
  {
   "cell_type": "code",
   "execution_count": 21,
   "metadata": {
    "vscode": {
     "languageId": "r"
    }
   },
   "outputs": [
    {
     "data": {
      "image/png": "[encoded data removed]",
      "text/plain": [
       "plot without title"
      ]
     },
     "metadata": {
      "image/png": {
       "height": 420,
       "width": 420
      }
     },
     "output_type": "display_data"
    }
   ],
   "source": [
    "hist_N <- ggplot(df_N, aes(x = loan_amnt)) +\n",
    "  geom_histogram(bins = 13, fill = \"red\", color = \"black\") +  # Color de barras y borde\n",
    "  theme_classic() +  # Aplicar un tema clasico (con fondo blanco)\n",
    "  theme(panel.grid.major = element_line(color = \"gray80\", size = 0.5)) # Agregar cuadricula\n",
    "\n",
    "hist_N"
   ]
  },
  {
   "cell_type": "markdown",
   "metadata": {},
   "source": []
  },
  {
   "cell_type": "code",
   "execution_count": 22,
   "metadata": {
    "vscode": {
     "languageId": "r"
    }
   },
   "outputs": [
    {
     "data": {
      "image/png": "[encoded data removed]",
      "text/plain": [
       "plot without title"
      ]
     },
     "metadata": {
      "image/png": {
       "height": 420,
       "width": 420
      }
     },
     "output_type": "display_data"
    }
   ],
   "source": [
    "boxp_N <- ggplot(df_N, aes(x = loan_amnt)) +\n",
    "  geom_boxplot(fill = \"red\", color= \"black\") +\n",
    "  theme_classic()\n",
    "\n",
    "boxp_N"
   ]
  },
  {
   "cell_type": "markdown",
   "metadata": {},
   "source": []
  },
  {
   "cell_type": "code",
   "execution_count": 23,
   "metadata": {
    "vscode": {
     "languageId": "r"
    }
   },
   "outputs": [
    {
     "data": {
      "image/png": "[encoded data removed]",
      "text/plain": [
       "plot without title"
      ]
     },
     "metadata": {
      "image/png": {
       "height": 420,
       "width": 420
      }
     },
     "output_type": "display_data"
    }
   ],
   "source": [
    "qqnormal_N <- ggplot(df_N, aes(sample = loan_amnt)) +\n",
    "  stat_qq() +\n",
    "  stat_qq_line(color = \"red\") +\n",
    "  ggtitle(\"QQ Plot - Distribución Normal\") +\n",
    "  xlab(\"Cuantiles teóricos\") +\n",
    "  ylab(\"Cuantiles muestrales\")\n",
    "\n",
    "qqnormal_N"
   ]
  },
  {
   "cell_type": "markdown",
   "metadata": {},
   "source": []
  },
  {
   "cell_type": "markdown",
   "metadata": {},
   "source": [
    "# 2. ¿La media para ambas categorias es igual?"
   ]
  },
  {
   "cell_type": "markdown",
   "metadata": {},
   "source": [
    "Generemos un intervalo de confianza para la diferencia de las medias, en donde usaré el siguiente intervalo dado que el tamaño de la muestra es lo suficientemente grande para poder usar el teorema del límite central:\n",
    "$$\\left( (\\bar{X} - \\bar{Y}) - Z_{\\frac{\\alpha}{2}} \\sqrt{\\frac{S_x^2}{n_x} + \\frac{S_y^2}{n_y}}, (\\bar{X} - \\bar{Y}) + Z_{\\frac{\\alpha}{2}} \\sqrt{\\frac{S_x^2}{n_x} + \\frac{S_y^2}{n_y}} \\right)$$\n",
    "\n",
    "En este caso, $\\bar{X}$ y $\\bar{Y}$ son las medias de las muestras de personas que han pagado y no han pagado, $S_x$ y $S_y$ son las desviaciones estándar de las muestras de personas que han pagado y no han pagado, $n_x$ y $n_y$ son los tamaños de las muestras de personas que han pagado y no han pagado, y $Z_{\\frac{\\alpha}{2}}$ es el valor crítico de la distribución normal estándar para un nivel de confianza del 95%."
   ]
  },
  {
   "cell_type": "code",
   "execution_count": 24,
   "metadata": {
    "vscode": {
     "languageId": "r"
    }
   },
   "outputs": [
    {
     "name": "stdout",
     "output_type": "stream",
     "text": [
      "Intervalo de confianza para la diferencia de las medias: ( 456.1993 ,  840.4078 )"
     ]
    }
   ],
   "source": [
    "dif_medias <- media_Y - media_N\n",
    "\n",
    "nY <- length(df_Y$loan_amnt)\n",
    "nN <- length(df_N$loan_amnt)\n",
    "\n",
    "Z <- qnorm(0.975)\n",
    "\n",
    "error <- Z * sqrt(varianza_Y/nY + varianza_N/nN)\n",
    "\n",
    "intervalo <- c(dif_medias - error, dif_medias + error)\n",
    "\n",
    "cat(\"Intervalo de confianza para la diferencia de las medias: (\", intervalo[1], \", \", intervalo[2], \")\")\n"
   ]
  },
  {
   "cell_type": "markdown",
   "metadata": {},
   "source": []
  },
  {
   "cell_type": "markdown",
   "metadata": {},
   "source": [
    "# 3. Pruebas de hipótesis con un nivel de significancia del 5%"
   ]
  },
  {
   "cell_type": "markdown",
   "metadata": {},
   "source": [
    "Para comprobar el resultado anterior, hagamos una prueba de hipótesis donde:\n",
    "\n",
    "$H_0: \\mu_Y - \\mu_N = 0$\n",
    "\n",
    "$H_1: \\mu_Y - \\mu_N \\neq 0$\n",
    "\n",
    "Calculamos el estadístico de prueba:\n",
    "$$t = \\frac{\\bar{X} - \\bar{Y}}{\\sqrt{\\frac{S_x^2}{n_x} + \\frac{S_y^2}{n_y}}} \\; \\sim \\; t_{\\nu}$$\n",
    "\n",
    "donde $\\nu$ es el número de grados de libertad, que se calcula como:\n",
    "\n",
    "$$\\nu \\approx \\frac{\\left(\\frac{S_x^2}{n_x} + \\frac{S_y^2}{n_y}\\right)^2}{\\frac{(S_x^2/n_x)^2}{n_x-1} + \\frac{(S_y^2/n_y)^2}{n_y-1}}$$\n",
    "\n",
    "y con una region de rechazo de la forma:\n",
    "\n",
    "$$R = \\{t: |t| > t_{\\frac{\\alpha}{2}, \\nu}\\}$$\n"
   ]
  },
  {
   "cell_type": "code",
   "execution_count": 25,
   "metadata": {
    "vscode": {
     "languageId": "r"
    }
   },
   "outputs": [
    {
     "name": "stdout",
     "output_type": "stream",
     "text": [
      "Rechazamos la hipótesis nula. La diferencia entre las medias es significativa."
     ]
    }
   ],
   "source": [
    "nY <- length(df_Y$loan_amnt)\n",
    "nN <- length(df_N$loan_amnt)\n",
    "\n",
    "t_estadistico <- (media_Y - media_N) / sqrt(varianza_Y/nY + varianza_N/nN)\n",
    "\n",
    "grados_libertad <- round(((varianza_Y/nY + varianza_N/nN)^2) / ((varianza_Y/nY)^2/(nY-1) + (varianza_N/nN)^2/(nN-1)))\n",
    "\n",
    "t_critico <- qt(0.975, grados_libertad)\n",
    "\n",
    "if (abs(t_estadistico) > t_critico) {\n",
    "  cat(\"Rechazamos la hipótesis nula. La diferencia entre las medias es significativa.\")\n",
    "} else {\n",
    "  cat(\"No rechazamos la hipótesis nula. La diferencia entre las medias no es significativa.\")\n",
    "}"
   ]
  },
  {
   "cell_type": "markdown",
   "metadata": {},
   "source": []
  }
 ],
 "metadata": {
  "kernelspec": {
   "display_name": "R",
   "language": "R",
   "name": "ir"
  },
  "language_info": {
   "codemirror_mode": "r",
   "file_extension": ".r",
   "mimetype": "text/x-r-source",
   "name": "R",
   "pygments_lexer": "r",
   "version": "4.4.2"
  }
 },
 "nbformat": 4,
 "nbformat_minor": 2
}
